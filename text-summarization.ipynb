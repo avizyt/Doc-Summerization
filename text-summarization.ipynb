{
 "cells": [
  {
   "cell_type": "markdown",
   "id": "bd064ea9",
   "metadata": {
    "papermill": {
     "duration": 0.009432,
     "end_time": "2023-03-20T15:35:35.613702",
     "exception": false,
     "start_time": "2023-03-20T15:35:35.604270",
     "status": "completed"
    },
    "tags": []
   },
   "source": [
    "# Text or Document Summarization"
   ]
  },
  {
   "cell_type": "markdown",
   "id": "e3016bcf",
   "metadata": {
    "papermill": {
     "duration": 0.007837,
     "end_time": "2023-03-20T15:35:35.629907",
     "exception": false,
     "start_time": "2023-03-20T15:35:35.622070",
     "status": "completed"
    },
    "tags": []
   },
   "source": [
    "## Extraction Based"
   ]
  },
  {
   "cell_type": "markdown",
   "id": "96eee618",
   "metadata": {
    "papermill": {
     "duration": 0.007954,
     "end_time": "2023-03-20T15:35:35.646258",
     "exception": false,
     "start_time": "2023-03-20T15:35:35.638304",
     "status": "completed"
    },
    "tags": []
   },
   "source": [
    "In this code, we first load the NLTK library and the stop words for English. We then define the text that we want to summarize and tokenize it into sentences using the sent_tokenize() function. Next, we create a frequency table for the words in the text using a defaultdict() object from the collections module. We iterate through each sentence, tokenize it into words, and count the frequency of each word, excluding stop words.\n",
    "\n",
    "We then calculate a score for each sentence by adding up the frequencies of its constituent words. We use another defaultdict() object to store the sentence scores. Finally, we select the top N sentences based on their scores and print them as the summary.\n",
    "\n",
    "This is a simple example of an extraction-based approach to document summarization using a frequency-based algorithm. Other more advanced techniques such as Latent Semantic Analysis (LSA) or TextRank could be used to improve the performance of the summarization algorithm."
   ]
  },
  {
   "cell_type": "code",
   "execution_count": 1,
   "id": "072d99dc",
   "metadata": {
    "execution": {
     "iopub.execute_input": "2023-03-20T15:35:35.665297Z",
     "iopub.status.busy": "2023-03-20T15:35:35.664041Z",
     "iopub.status.idle": "2023-03-20T15:35:37.135893Z",
     "shell.execute_reply": "2023-03-20T15:35:37.134572Z"
    },
    "papermill": {
     "duration": 1.484635,
     "end_time": "2023-03-20T15:35:37.138943",
     "exception": false,
     "start_time": "2023-03-20T15:35:35.654308",
     "status": "completed"
    },
    "tags": []
   },
   "outputs": [],
   "source": [
    "import nltk\n",
    "from nltk.corpus import stopwords\n",
    "from nltk.tokenize import sent_tokenize, word_tokenize\n",
    "from collections import defaultdict\n",
    "from nltk.stem import WordNetLemmatizer\n",
    "from nltk.probability import FreqDist\n",
    "import heapq"
   ]
  },
  {
   "cell_type": "code",
   "execution_count": 2,
   "id": "034f0da0",
   "metadata": {
    "execution": {
     "iopub.execute_input": "2023-03-20T15:35:37.157358Z",
     "iopub.status.busy": "2023-03-20T15:35:37.156887Z",
     "iopub.status.idle": "2023-03-20T15:35:37.315219Z",
     "shell.execute_reply": "2023-03-20T15:35:37.314057Z"
    },
    "papermill": {
     "duration": 0.171774,
     "end_time": "2023-03-20T15:35:37.319075",
     "exception": false,
     "start_time": "2023-03-20T15:35:37.147301",
     "status": "completed"
    },
    "tags": []
   },
   "outputs": [
    {
     "name": "stdout",
     "output_type": "stream",
     "text": [
      "[nltk_data] Downloading package stopwords to /usr/share/nltk_data...\n",
      "[nltk_data]   Package stopwords is already up-to-date!\n",
      "[nltk_data] Downloading package wordnet to /usr/share/nltk_data...\n",
      "[nltk_data]   Package wordnet is already up-to-date!\n"
     ]
    }
   ],
   "source": [
    "nltk.download('stopwords')\n",
    "nltk.download('wordnet')\n",
    "from nltk.corpus import wordnet\n",
    "stop_words = set(stopwords.words('english'))\n",
    "lemmatizer = WordNetLemmatizer()"
   ]
  },
  {
   "cell_type": "code",
   "execution_count": 3,
   "id": "814bb119",
   "metadata": {
    "execution": {
     "iopub.execute_input": "2023-03-20T15:35:37.339010Z",
     "iopub.status.busy": "2023-03-20T15:35:37.338102Z",
     "iopub.status.idle": "2023-03-20T15:35:37.344117Z",
     "shell.execute_reply": "2023-03-20T15:35:37.343257Z"
    },
    "papermill": {
     "duration": 0.018047,
     "end_time": "2023-03-20T15:35:37.346465",
     "exception": false,
     "start_time": "2023-03-20T15:35:37.328418",
     "status": "completed"
    },
    "tags": []
   },
   "outputs": [],
   "source": [
    "# text = '''\n",
    "# Back in 2019, a non-profit research group called OpenAI created a software program that could generate paragraphs of coherent text and perform rudimentary reading comprehension and analysis without specific instruction.\n",
    "\n",
    "# OpenAI initially decided not to make its creation, called GPT-2, fully available to the public out of fear that people with malicious intent could use it to generate massive amounts disinformation and propaganda. In a press release announcing its decision, the group called the program \"too dangerous\".\n",
    "\n",
    "# Fast forward three years, and artificial intelligence capabilities have increased exponentially.\n",
    "\n",
    "# In contrast to that last limited distribution, the next offering, GPT-3, was made readily available in November. The Chatbot-GPT interface derived from that programming was the service that launched a thousand news articles and social media posts, as reporters and experts tested its capabilities - often with eye-popping results.\n",
    "\n",
    "# Chatbot-GPT scripted stand-up routines in the style of the late comedian George Carlin about the Silicon Valley Bank failure. It opined on Christian theology. It wrote poetry. It explained quantum theory physics to a child as though it were rapper Snoop Dogg. Other AI models, like Dall-E, generated visuals so compelling they have sparked controversy over their inclusion on art websites.\n",
    "\n",
    "# Machines, at least to the naked eye, have achieved creativity.\n",
    "\n",
    "# On Tuesday, OpenAI debuted the latest iteration of its program, GPT-4, which it says has robust limits on abusive uses. Early clients include Microsoft, Merrill Lynch and the government of Iceland. And at the South by Southwest Interactive conference in Austin, Texas, this week - a global gathering of tech policymakers, investors and executives - the hottest topic of conversation was the potential, and power, of artificial intelligence programs.\n",
    "\n",
    "# Arati Prabhakar, director of the White House's Office of Science and Technology Policy, says she is excited about the possibilities of AI, but she also had a warning.\n",
    "\n",
    "# \"What we are all seeing is the emergence of this extremely powerful technology. This is an inflection point,\" she told a conference panel audience. \"All of history shows that these kinds of powerful new technologies can and will be used for good and for ill.\"\n",
    "\n",
    "# Her co-panelist, Austin Carson, was a bit more blunt.\n",
    "\n",
    "# \"If in six months you are not completely freaked the (expletive) out, then I will buy you dinner,\" the founder of SeedAI, an artificial intelligence policy advisory group, told the audience.\n",
    "\n",
    "# '''"
   ]
  },
  {
   "cell_type": "code",
   "execution_count": 4,
   "id": "01496720",
   "metadata": {
    "execution": {
     "iopub.execute_input": "2023-03-20T15:35:37.365967Z",
     "iopub.status.busy": "2023-03-20T15:35:37.365234Z",
     "iopub.status.idle": "2023-03-20T15:35:37.373964Z",
     "shell.execute_reply": "2023-03-20T15:35:37.372641Z"
    },
    "papermill": {
     "duration": 0.021462,
     "end_time": "2023-03-20T15:35:37.376474",
     "exception": false,
     "start_time": "2023-03-20T15:35:37.355012",
     "status": "completed"
    },
    "tags": []
   },
   "outputs": [],
   "source": [
    "text = '''\n",
    "Alice was not a bit hurt, and she jumped up on to her feet in a moment:\n",
    "she looked up, but it was all dark overhead; before her was another long\n",
    "passage, and the White Rabbit was still in sight, hurrying down it.\n",
    "There was not a moment to be lost: away went Alice like the wind, and\n",
    "was just in time to hear it say, as it turned a corner, \"Oh my ears and\n",
    "whiskers, how late it's getting!\" She was close behind it when she\n",
    "turned the corner, but the Rabbit was no longer to be seen: she found\n",
    "herself in a long, low hall, which was lit up by a row of lamps hanging\n",
    "from the roof.\n",
    "\n",
    "There were doors all round the hall, but they were all locked; and when\n",
    "Alice had been all the way down one side and up the other, trying every\n",
    "door, she walked sadly down the middle, wondering how she was ever to\n",
    "get out again.\n",
    "\n",
    "Suddenly she came upon a little three-legged table, all made of solid\n",
    "glass; there was nothing on it but a tiny golden key, and Alice's first\n",
    "idea was that this might belong to one of the doors of the hall; but,\n",
    "alas! either the locks were too large, or the key was too small, but at\n",
    "any rate it would not open any of them. However, on the second time\n",
    "round, she came upon a low curtain she had not noticed before, and\n",
    "behind it was a little door about fifteen inches high: she tried the\n",
    "little golden key in the lock, and to her great delight it fitted!\n",
    "Alice opened the door and found that it led into a small passage, not\n",
    "much larger than a rat-hole: she knelt down and looked along the passage\n",
    "into the loveliest garden you ever saw. How she longed to get out of\n",
    "that dark hall, and wander about among those beds of bright flowers and\n",
    "those cool fountains, but she could not even get her head through the\n",
    "doorway; \"and even if my head would go through,\" thought poor Alice, \"it\n",
    "would be of very little use without my shoulders. Oh, how I wish I could\n",
    "shut up like a telescope! I think I could, if I only knew how to begin.\"\n",
    "For, you see, so many out-of-the-way things had happened lately, that\n",
    "Alice had begun to think that very few things indeed were really\n",
    "impossible.\n",
    "\n",
    "There seemed to be no use in waiting by the little door, so she went\n",
    "back to the table, half hoping she might find another key on it, or at\n",
    "any rate a book of rules for shutting people up like telescopes: this\n",
    "time she found a little bottle on it (\"which certainly was not here\n",
    "before,\" said Alice,) and tied round the neck of the bottle was a paper\n",
    "label, with the words \"DRINK ME\" beautifully printed on it in large\n",
    "letters.\n",
    "\n",
    "It was all very well to say \"Drink me,\" but the wise little Alice was\n",
    "not going to do _that_ in a hurry. \"No, I'll look first,\" she said, \"and\n",
    "see whether it's marked '_poison_' or not;\" for she had read several\n",
    "nice little stories about children who had got burnt, and eaten up by\n",
    "wild beasts, and other unpleasant things, all because they _would_ not\n",
    "remember the simple rules their friends had taught them: such as, that a\n",
    "red-hot poker will burn you if you hold it too long; and that, if you\n",
    "cut your finger _very_ deeply with a knife, it usually bleeds; and she\n",
    "had never forgotten that, if you drink much from a bottle marked\n",
    "\"poison,\" it is almost certain to disagree with you, sooner or later.\n",
    "\n",
    "However, this bottle was _not_ marked \"poison,\" so Alice ventured to\n",
    "taste it, and finding it very nice (it had, in fact, a sort of mixed\n",
    "flavour of cherry-tart, custard, pineapple, roast turkey, coffee, and\n",
    "hot buttered toast,) she very soon finished it off.\n",
    "'''"
   ]
  },
  {
   "cell_type": "code",
   "execution_count": 5,
   "id": "18d49d6d",
   "metadata": {
    "execution": {
     "iopub.execute_input": "2023-03-20T15:35:37.396263Z",
     "iopub.status.busy": "2023-03-20T15:35:37.395443Z",
     "iopub.status.idle": "2023-03-20T15:35:37.416989Z",
     "shell.execute_reply": "2023-03-20T15:35:37.415770Z"
    },
    "papermill": {
     "duration": 0.033653,
     "end_time": "2023-03-20T15:35:37.419442",
     "exception": false,
     "start_time": "2023-03-20T15:35:37.385789",
     "status": "completed"
    },
    "tags": []
   },
   "outputs": [
    {
     "data": {
      "text/plain": [
       "['\\nAlice was not a bit hurt, and she jumped up on to her feet in a moment:\\nshe looked up, but it was all dark overhead; before her was another long\\npassage, and the White Rabbit was still in sight, hurrying down it.',\n",
       " 'There was not a moment to be lost: away went Alice like the wind, and\\nwas just in time to hear it say, as it turned a corner, \"Oh my ears and\\nwhiskers, how late it\\'s getting!\"']"
      ]
     },
     "execution_count": 5,
     "metadata": {},
     "output_type": "execute_result"
    }
   ],
   "source": [
    "sentences = sent_tokenize(text)\n",
    "sentences[:2]"
   ]
  },
  {
   "cell_type": "code",
   "execution_count": 6,
   "id": "a8656786",
   "metadata": {
    "execution": {
     "iopub.execute_input": "2023-03-20T15:35:37.438403Z",
     "iopub.status.busy": "2023-03-20T15:35:37.437786Z",
     "iopub.status.idle": "2023-03-20T15:35:37.449748Z",
     "shell.execute_reply": "2023-03-20T15:35:37.448383Z"
    },
    "papermill": {
     "duration": 0.024466,
     "end_time": "2023-03-20T15:35:37.452309",
     "exception": false,
     "start_time": "2023-03-20T15:35:37.427843",
     "status": "completed"
    },
    "tags": []
   },
   "outputs": [],
   "source": [
    "word_freq = defaultdict(int)\n",
    "for i in range(len(sentences)-1):\n",
    "    words = word_tokenize(sentences[i])\n",
    "    \n",
    "    for word in words:\n",
    "        if word not in stop_words:\n",
    "            word_freq[word] += 1\n"
   ]
  },
  {
   "cell_type": "code",
   "execution_count": 7,
   "id": "999fa56e",
   "metadata": {
    "execution": {
     "iopub.execute_input": "2023-03-20T15:35:37.472456Z",
     "iopub.status.busy": "2023-03-20T15:35:37.471581Z",
     "iopub.status.idle": "2023-03-20T15:35:37.486205Z",
     "shell.execute_reply": "2023-03-20T15:35:37.485027Z"
    },
    "papermill": {
     "duration": 0.02791,
     "end_time": "2023-03-20T15:35:37.489130",
     "exception": false,
     "start_time": "2023-03-20T15:35:37.461220",
     "status": "completed"
    },
    "tags": []
   },
   "outputs": [
    {
     "data": {
      "text/plain": [
       "defaultdict(int,\n",
       "            {'Alice': 9,\n",
       "             'bit': 1,\n",
       "             'hurt': 1,\n",
       "             ',': 53,\n",
       "             'jumped': 1,\n",
       "             'feet': 1,\n",
       "             'moment': 2,\n",
       "             ':': 7,\n",
       "             'looked': 2,\n",
       "             'dark': 2,\n",
       "             'overhead': 1,\n",
       "             ';': 8,\n",
       "             'another': 2,\n",
       "             'long': 3,\n",
       "             'passage': 3,\n",
       "             'White': 1,\n",
       "             'Rabbit': 2,\n",
       "             'still': 1,\n",
       "             'sight': 1,\n",
       "             'hurrying': 1,\n",
       "             '.': 11,\n",
       "             'There': 3,\n",
       "             'lost': 1,\n",
       "             'away': 1,\n",
       "             'went': 2,\n",
       "             'like': 3,\n",
       "             'wind': 1,\n",
       "             'time': 3,\n",
       "             'hear': 1,\n",
       "             'say': 2,\n",
       "             'turned': 2,\n",
       "             'corner': 2,\n",
       "             '``': 8,\n",
       "             'Oh': 2,\n",
       "             'ears': 1,\n",
       "             'whiskers': 1,\n",
       "             'late': 1,\n",
       "             \"'s\": 3,\n",
       "             'getting': 1,\n",
       "             '!': 4,\n",
       "             \"''\": 10,\n",
       "             'She': 1,\n",
       "             'close': 1,\n",
       "             'behind': 2,\n",
       "             'longer': 1,\n",
       "             'seen': 1,\n",
       "             'found': 3,\n",
       "             'low': 2,\n",
       "             'hall': 4,\n",
       "             'lit': 1,\n",
       "             'row': 1,\n",
       "             'lamps': 1,\n",
       "             'hanging': 1,\n",
       "             'roof': 1,\n",
       "             'doors': 2,\n",
       "             'round': 3,\n",
       "             'locked': 1,\n",
       "             'way': 1,\n",
       "             'one': 2,\n",
       "             'side': 1,\n",
       "             'trying': 1,\n",
       "             'every': 1,\n",
       "             'door': 4,\n",
       "             'walked': 1,\n",
       "             'sadly': 1,\n",
       "             'middle': 1,\n",
       "             'wondering': 1,\n",
       "             'ever': 2,\n",
       "             'get': 3,\n",
       "             'Suddenly': 1,\n",
       "             'came': 2,\n",
       "             'upon': 2,\n",
       "             'little': 8,\n",
       "             'three-legged': 1,\n",
       "             'table': 2,\n",
       "             'made': 1,\n",
       "             'solid': 1,\n",
       "             'glass': 1,\n",
       "             'nothing': 1,\n",
       "             'tiny': 1,\n",
       "             'golden': 2,\n",
       "             'key': 4,\n",
       "             'first': 2,\n",
       "             'idea': 1,\n",
       "             'might': 2,\n",
       "             'belong': 1,\n",
       "             'alas': 1,\n",
       "             'either': 1,\n",
       "             'locks': 1,\n",
       "             'large': 2,\n",
       "             'small': 2,\n",
       "             'rate': 2,\n",
       "             'would': 3,\n",
       "             'open': 1,\n",
       "             'However': 1,\n",
       "             'second': 1,\n",
       "             'curtain': 1,\n",
       "             'noticed': 1,\n",
       "             'fifteen': 1,\n",
       "             'inches': 1,\n",
       "             'high': 1,\n",
       "             'tried': 1,\n",
       "             'lock': 1,\n",
       "             'great': 1,\n",
       "             'delight': 1,\n",
       "             'fitted': 1,\n",
       "             'opened': 1,\n",
       "             'led': 1,\n",
       "             'much': 2,\n",
       "             'larger': 1,\n",
       "             'rat-hole': 1,\n",
       "             'knelt': 1,\n",
       "             'along': 1,\n",
       "             'loveliest': 1,\n",
       "             'garden': 1,\n",
       "             'saw': 1,\n",
       "             'How': 1,\n",
       "             'longed': 1,\n",
       "             'wander': 1,\n",
       "             'among': 1,\n",
       "             'beds': 1,\n",
       "             'bright': 1,\n",
       "             'flowers': 1,\n",
       "             'cool': 1,\n",
       "             'fountains': 1,\n",
       "             'could': 3,\n",
       "             'even': 2,\n",
       "             'head': 2,\n",
       "             'doorway': 1,\n",
       "             'go': 1,\n",
       "             'thought': 1,\n",
       "             'poor': 1,\n",
       "             'use': 2,\n",
       "             'without': 1,\n",
       "             'shoulders': 1,\n",
       "             'I': 6,\n",
       "             'wish': 1,\n",
       "             'shut': 1,\n",
       "             'telescope': 1,\n",
       "             'think': 2,\n",
       "             'knew': 1,\n",
       "             'begin': 1,\n",
       "             'For': 1,\n",
       "             'see': 2,\n",
       "             'many': 1,\n",
       "             'out-of-the-way': 1,\n",
       "             'things': 3,\n",
       "             'happened': 1,\n",
       "             'lately': 1,\n",
       "             'begun': 1,\n",
       "             'indeed': 1,\n",
       "             'really': 1,\n",
       "             'impossible': 1,\n",
       "             'seemed': 1,\n",
       "             'waiting': 1,\n",
       "             'back': 1,\n",
       "             'half': 1,\n",
       "             'hoping': 1,\n",
       "             'find': 1,\n",
       "             'book': 1,\n",
       "             'rules': 2,\n",
       "             'shutting': 1,\n",
       "             'people': 1,\n",
       "             'telescopes': 1,\n",
       "             'bottle': 3,\n",
       "             '(': 1,\n",
       "             'certainly': 1,\n",
       "             'said': 2,\n",
       "             ')': 1,\n",
       "             'tied': 1,\n",
       "             'neck': 1,\n",
       "             'paper': 1,\n",
       "             'label': 1,\n",
       "             'words': 1,\n",
       "             'DRINK': 1,\n",
       "             'ME': 1,\n",
       "             'beautifully': 1,\n",
       "             'printed': 1,\n",
       "             'letters': 1,\n",
       "             'It': 1,\n",
       "             'well': 1,\n",
       "             'Drink': 1,\n",
       "             'wise': 1,\n",
       "             'going': 1,\n",
       "             '_that_': 1,\n",
       "             'hurry': 1,\n",
       "             'No': 1,\n",
       "             \"'ll\": 1,\n",
       "             'look': 1,\n",
       "             'whether': 1,\n",
       "             'marked': 2,\n",
       "             \"'_poison_\": 1,\n",
       "             \"'\": 1,\n",
       "             'read': 1,\n",
       "             'several': 1,\n",
       "             'nice': 1,\n",
       "             'stories': 1,\n",
       "             'children': 1,\n",
       "             'got': 1,\n",
       "             'burnt': 1,\n",
       "             'eaten': 1,\n",
       "             'wild': 1,\n",
       "             'beasts': 1,\n",
       "             'unpleasant': 1,\n",
       "             '_would_': 1,\n",
       "             'remember': 1,\n",
       "             'simple': 1,\n",
       "             'friends': 1,\n",
       "             'taught': 1,\n",
       "             'red-hot': 1,\n",
       "             'poker': 1,\n",
       "             'burn': 1,\n",
       "             'hold': 1,\n",
       "             'cut': 1,\n",
       "             'finger': 1,\n",
       "             '_very_': 1,\n",
       "             'deeply': 1,\n",
       "             'knife': 1,\n",
       "             'usually': 1,\n",
       "             'bleeds': 1,\n",
       "             'never': 1,\n",
       "             'forgotten': 1,\n",
       "             'drink': 1,\n",
       "             'poison': 1,\n",
       "             'almost': 1,\n",
       "             'certain': 1,\n",
       "             'disagree': 1,\n",
       "             'sooner': 1,\n",
       "             'later': 1})"
      ]
     },
     "execution_count": 7,
     "metadata": {},
     "output_type": "execute_result"
    }
   ],
   "source": [
    "word_freq"
   ]
  },
  {
   "cell_type": "code",
   "execution_count": 8,
   "id": "226ec269",
   "metadata": {
    "execution": {
     "iopub.execute_input": "2023-03-20T15:35:37.510889Z",
     "iopub.status.busy": "2023-03-20T15:35:37.510235Z",
     "iopub.status.idle": "2023-03-20T15:35:37.523523Z",
     "shell.execute_reply": "2023-03-20T15:35:37.522133Z"
    },
    "papermill": {
     "duration": 0.027634,
     "end_time": "2023-03-20T15:35:37.526101",
     "exception": false,
     "start_time": "2023-03-20T15:35:37.498467",
     "status": "completed"
    },
    "tags": []
   },
   "outputs": [],
   "source": [
    "# Calculate the score for each sentence\n",
    "sentence_scores = defaultdict(int)\n",
    "for sentence in sentences:\n",
    "    words = word_tokenize(sentence)\n",
    "    for word in words:\n",
    "        if word in word_freq:\n",
    "            sentence_scores[sentence] += word_freq[word]"
   ]
  },
  {
   "cell_type": "code",
   "execution_count": 9,
   "id": "b2fb0640",
   "metadata": {
    "execution": {
     "iopub.execute_input": "2023-03-20T15:35:37.545249Z",
     "iopub.status.busy": "2023-03-20T15:35:37.544848Z",
     "iopub.status.idle": "2023-03-20T15:35:37.552125Z",
     "shell.execute_reply": "2023-03-20T15:35:37.550915Z"
    },
    "papermill": {
     "duration": 0.019636,
     "end_time": "2023-03-20T15:35:37.554516",
     "exception": false,
     "start_time": "2023-03-20T15:35:37.534880",
     "status": "completed"
    },
    "tags": []
   },
   "outputs": [
    {
     "data": {
      "text/plain": [
       "defaultdict(int,\n",
       "            {'\\nAlice was not a bit hurt, and she jumped up on to her feet in a moment:\\nshe looked up, but it was all dark overhead; before her was another long\\npassage, and the White Rabbit was still in sight, hurrying down it.': 272,\n",
       "             'There was not a moment to be lost: away went Alice like the wind, and\\nwas just in time to hear it say, as it turned a corner, \"Oh my ears and\\nwhiskers, how late it\\'s getting!\"': 282,\n",
       "             'She was close behind it when she\\nturned the corner, but the Rabbit was no longer to be seen: she found\\nherself in a long, low hall, which was lit up by a row of lamps hanging\\nfrom the roof.': 206,\n",
       "             'There were doors all round the hall, but they were all locked; and when\\nAlice had been all the way down one side and up the other, trying every\\ndoor, she walked sadly down the middle, wondering how she was ever to\\nget out again.': 272,\n",
       "             \"Suddenly she came upon a little three-legged table, all made of solid\\nglass; there was nothing on it but a tiny golden key, and Alice's first\\nidea was that this might belong to one of the doors of the hall; but,\\nalas!\": 233,\n",
       "             'either the locks were too large, or the key was too small, but at\\nany rate it would not open any of them.': 133,\n",
       "             'However, on the second time\\nround, she came upon a low curtain she had not noticed before, and\\nbehind it was a little door about fifteen inches high: she tried the\\nlittle golden key in the lock, and to her great delight it fitted!': 275,\n",
       "             'Alice opened the door and found that it led into a small passage, not\\nmuch larger than a rat-hole: she knelt down and looked along the passage\\ninto the loveliest garden you ever saw.': 110,\n",
       "             'How she longed to get out of\\nthat dark hall, and wander about among those beds of bright flowers and\\nthose cool fountains, but she could not even get her head through the\\ndoorway; \"and even if my head would go through,\" thought poor Alice, \"it\\nwould be of very little use without my shoulders.': 320,\n",
       "             'Oh, how I wish I could\\nshut up like a telescope!': 80,\n",
       "             'I think I could, if I only knew how to begin.\"': 99,\n",
       "             'For, you see, so many out-of-the-way things had happened lately, that\\nAlice had begun to think that very few things indeed were really\\nimpossible.': 198,\n",
       "             'There seemed to be no use in waiting by the little door, so she went\\nback to the table, half hoping she might find another key on it, or at\\nany rate a book of rules for shutting people up like telescopes: this\\ntime she found a little bottle on it (\"which certainly was not here\\nbefore,\" said Alice,) and tied round the neck of the bottle was a paper\\nlabel, with the words \"DRINK ME\" beautifully printed on it in large\\nletters.': 467,\n",
       "             'It was all very well to say \"Drink me,\" but the wise little Alice was\\nnot going to do _that_ in a hurry.': 108,\n",
       "             '\"No, I\\'ll look first,\" she said, \"and\\nsee whether it\\'s marked \\'_poison_\\' or not;\" for she had read several\\nnice little stories about children who had got burnt, and eaten up by\\nwild beasts, and other unpleasant things, all because they _would_ not\\nremember the simple rules their friends had taught them: such as, that a\\nred-hot poker will burn you if you hold it too long; and that, if you\\ncut your finger _very_ deeply with a knife, it usually bleeds; and she\\nhad never forgotten that, if you drink much from a bottle marked\\n\"poison,\" it is almost certain to disagree with you, sooner or later.': 816,\n",
       "             'However, this bottle was _not_ marked \"poison,\" so Alice ventured to\\ntaste it, and finding it very nice (it had, in fact, a sort of mixed\\nflavour of cherry-tart, custard, pineapple, roast turkey, coffee, and\\nhot buttered toast,) she very soon finished it off.': 631})"
      ]
     },
     "execution_count": 9,
     "metadata": {},
     "output_type": "execute_result"
    }
   ],
   "source": [
    "sentence_scores"
   ]
  },
  {
   "cell_type": "code",
   "execution_count": 10,
   "id": "60dcfe9e",
   "metadata": {
    "execution": {
     "iopub.execute_input": "2023-03-20T15:35:37.574969Z",
     "iopub.status.busy": "2023-03-20T15:35:37.573864Z",
     "iopub.status.idle": "2023-03-20T15:35:37.579571Z",
     "shell.execute_reply": "2023-03-20T15:35:37.578783Z"
    },
    "papermill": {
     "duration": 0.018105,
     "end_time": "2023-03-20T15:35:37.581826",
     "exception": false,
     "start_time": "2023-03-20T15:35:37.563721",
     "status": "completed"
    },
    "tags": []
   },
   "outputs": [],
   "source": [
    "# Select the top N sentences based on their scores\n",
    "N = 3\n",
    "summary_sentences = sorted(\n",
    "    sentence_scores, \n",
    "    key=sentence_scores.get, \n",
    "    reverse=True)[:N]"
   ]
  },
  {
   "cell_type": "code",
   "execution_count": 11,
   "id": "d4a450d1",
   "metadata": {
    "execution": {
     "iopub.execute_input": "2023-03-20T15:35:37.601686Z",
     "iopub.status.busy": "2023-03-20T15:35:37.600524Z",
     "iopub.status.idle": "2023-03-20T15:35:37.608093Z",
     "shell.execute_reply": "2023-03-20T15:35:37.606249Z"
    },
    "papermill": {
     "duration": 0.020382,
     "end_time": "2023-03-20T15:35:37.610879",
     "exception": false,
     "start_time": "2023-03-20T15:35:37.590497",
     "status": "completed"
    },
    "tags": []
   },
   "outputs": [
    {
     "name": "stdout",
     "output_type": "stream",
     "text": [
      "Summary:\n",
      "\"No, I'll look first,\" she said, \"and\n",
      "see whether it's marked '_poison_' or not;\" for she had read several\n",
      "nice little stories about children who had got burnt, and eaten up by\n",
      "wild beasts, and other unpleasant things, all because they _would_ not\n",
      "remember the simple rules their friends had taught them: such as, that a\n",
      "red-hot poker will burn you if you hold it too long; and that, if you\n",
      "cut your finger _very_ deeply with a knife, it usually bleeds; and she\n",
      "had never forgotten that, if you drink much from a bottle marked\n",
      "\"poison,\" it is almost certain to disagree with you, sooner or later.\n",
      "However, this bottle was _not_ marked \"poison,\" so Alice ventured to\n",
      "taste it, and finding it very nice (it had, in fact, a sort of mixed\n",
      "flavour of cherry-tart, custard, pineapple, roast turkey, coffee, and\n",
      "hot buttered toast,) she very soon finished it off.\n",
      "There seemed to be no use in waiting by the little door, so she went\n",
      "back to the table, half hoping she might find another key on it, or at\n",
      "any rate a book of rules for shutting people up like telescopes: this\n",
      "time she found a little bottle on it (\"which certainly was not here\n",
      "before,\" said Alice,) and tied round the neck of the bottle was a paper\n",
      "label, with the words \"DRINK ME\" beautifully printed on it in large\n",
      "letters.\n"
     ]
    }
   ],
   "source": [
    "# Print the summary\n",
    "print(\"Summary:\")\n",
    "for sentence in summary_sentences:\n",
    "    print(sentence)"
   ]
  },
  {
   "cell_type": "markdown",
   "id": "177ca408",
   "metadata": {
    "papermill": {
     "duration": 0.008591,
     "end_time": "2023-03-20T15:35:37.628331",
     "exception": false,
     "start_time": "2023-03-20T15:35:37.619740",
     "status": "completed"
    },
    "tags": []
   },
   "source": [
    "# Abstraction Based"
   ]
  },
  {
   "cell_type": "markdown",
   "id": "ff33955f",
   "metadata": {
    "papermill": {
     "duration": 0.008921,
     "end_time": "2023-03-20T15:35:37.645989",
     "exception": false,
     "start_time": "2023-03-20T15:35:37.637068",
     "status": "completed"
    },
    "tags": []
   },
   "source": [
    "In this code, we first load the NLTK library and the stop words and lemmatizer for English. We then define the text that we want to summarize and tokenize it into sentences and words using the sent_tokenize() and word_tokenize() functions. We remove stop words and lemmatize the remaining words using the WordNetLemmatizer.\n",
    "\n",
    "Next, we calculate the frequency distribution of the remaining words using FreqDist(). We use this to calculate the term frequency (TF) scores for each sentence, which we store in a dictionary called tf_scores.\n",
    "\n",
    "We then calculate the inverse document frequency (IDF) scores for each word based on its frequency across all sentences in the text. We use this to calculate the TF-IDF scores for each sentence, which we store in a dictionary called tfidf_scores.\n",
    "\n",
    "Finally, we select the top N sentences with the highest TF-IDF scores using the nlargest() function from the heapq module and join them together into a summary.\n",
    "\n",
    "Note that this is just a basic implementation and there are many ways to improve the accuracy and efficiency of the summarization algorithm, such as by using more advanced natural language processing techniques or incorporating user feedback."
   ]
  },
  {
   "cell_type": "code",
   "execution_count": 12,
   "id": "d9b19107",
   "metadata": {
    "execution": {
     "iopub.execute_input": "2023-03-20T15:35:37.665850Z",
     "iopub.status.busy": "2023-03-20T15:35:37.664825Z",
     "iopub.status.idle": "2023-03-20T15:35:50.867311Z",
     "shell.execute_reply": "2023-03-20T15:35:50.866193Z"
    },
    "papermill": {
     "duration": 13.215732,
     "end_time": "2023-03-20T15:35:50.870545",
     "exception": false,
     "start_time": "2023-03-20T15:35:37.654813",
     "status": "completed"
    },
    "tags": []
   },
   "outputs": [],
   "source": [
    "import spacy"
   ]
  },
  {
   "cell_type": "code",
   "execution_count": 13,
   "id": "adcde5ab",
   "metadata": {
    "execution": {
     "iopub.execute_input": "2023-03-20T15:35:50.892147Z",
     "iopub.status.busy": "2023-03-20T15:35:50.890488Z",
     "iopub.status.idle": "2023-03-20T15:35:51.761602Z",
     "shell.execute_reply": "2023-03-20T15:35:51.760626Z"
    },
    "papermill": {
     "duration": 0.884574,
     "end_time": "2023-03-20T15:35:51.764528",
     "exception": false,
     "start_time": "2023-03-20T15:35:50.879954",
     "status": "completed"
    },
    "tags": []
   },
   "outputs": [],
   "source": [
    "nlp = spacy.load('en_core_web_sm')\n"
   ]
  },
  {
   "cell_type": "code",
   "execution_count": 14,
   "id": "0a9e97a3",
   "metadata": {
    "execution": {
     "iopub.execute_input": "2023-03-20T15:35:51.785189Z",
     "iopub.status.busy": "2023-03-20T15:35:51.784747Z",
     "iopub.status.idle": "2023-03-20T15:35:51.975777Z",
     "shell.execute_reply": "2023-03-20T15:35:51.974395Z"
    },
    "papermill": {
     "duration": 0.204963,
     "end_time": "2023-03-20T15:35:51.979107",
     "exception": false,
     "start_time": "2023-03-20T15:35:51.774144",
     "status": "completed"
    },
    "tags": []
   },
   "outputs": [
    {
     "name": "stdout",
     "output_type": "stream",
     "text": [
      "\n",
      "Alice was not a bit hurt, and she jumped up on to her feet in a moment:\n",
      "she looked up, but it was all dark overhead; before her was another long\n",
      "passage, and the White Rabbit was still in sight, hurrying down it.\n",
      "There was not a moment to be lost: away went Alice like the wind, and\n",
      "was just in time to hear it say, as it turned a corner, \"Oh my ears and\n",
      "whiskers, how late it's getting!\" She was close behind it when she\n",
      "turned the corner, but the Rabbit was no longer to be seen: she found\n",
      "herself in a long, low hall, which was lit up by a row of lamps hanging\n",
      "from the roof.\n",
      "\n",
      "There were doors all round the hall, but they were all locked; and when\n",
      "Alice had been all the way down one side and up the other, trying every\n",
      "door, she walked sadly down the middle, wondering how she was ever to\n",
      "get out again.\n",
      "\n",
      "Suddenly she came upon a little three-legged table, all made of solid\n",
      "glass; there was nothing on it but a tiny golden key, and Alice's first\n",
      "idea was that this might belong to one of the doors of the hall; but,\n",
      "alas! either the locks were too large, or the key was too small, but at\n",
      "any rate it would not open any of them. However, on the second time\n",
      "round, she came upon a low curtain she had not noticed before, and\n",
      "behind it was a little door about fifteen inches high: she tried the\n",
      "little golden key in the lock, and to her great delight it fitted!\n",
      "Alice opened the door and found that it led into a small passage, not\n",
      "much larger than a rat-hole: she knelt down and looked along the passage\n",
      "into the loveliest garden you ever saw. How she longed to get out of\n",
      "that dark hall, and wander about among those beds of bright flowers and\n",
      "those cool fountains, but she could not even get her head through the\n",
      "doorway; \"and even if my head would go through,\" thought poor Alice, \"it\n",
      "would be of very little use without my shoulders. Oh, how I wish I could\n",
      "shut up like a telescope! I think I could, if I only knew how to begin.\"\n",
      "For, you see, so many out-of-the-way things had happened lately, that\n",
      "Alice had begun to think that very few things indeed were really\n",
      "impossible.\n",
      "\n",
      "There seemed to be no use in waiting by the little door, so she went\n",
      "back to the table, half hoping she might find another key on it, or at\n",
      "any rate a book of rules for shutting people up like telescopes: this\n",
      "time she found a little bottle on it (\"which certainly was not here\n",
      "before,\" said Alice,) and tied round the neck of the bottle was a paper\n",
      "label, with the words \"DRINK ME\" beautifully printed on it in large\n",
      "letters.\n",
      "\n",
      "It was all very well to say \"Drink me,\" but the wise little Alice was\n",
      "not going to do _that_ in a hurry. \"No, I'll look first,\" she said, \"and\n",
      "see whether it's marked '_poison_' or not;\" for she had read several\n",
      "nice little stories about children who had got burnt, and eaten up by\n",
      "wild beasts, and other unpleasant things, all because they _would_ not\n",
      "remember the simple rules their friends had taught them: such as, that a\n",
      "red-hot poker will burn you if you hold it too long; and that, if you\n",
      "cut your finger _very_ deeply with a knife, it usually bleeds; and she\n",
      "had never forgotten that, if you drink much from a bottle marked\n",
      "\"poison,\" it is almost certain to disagree with you, sooner or later.\n",
      "\n",
      "However, this bottle was _not_ marked \"poison,\" so Alice ventured to\n",
      "taste it, and finding it very nice (it had, in fact, a sort of mixed\n",
      "flavour of cherry-tart, custard, pineapple, roast turkey, coffee, and\n",
      "hot buttered toast,) she very soon finished it off.\n",
      "\n"
     ]
    }
   ],
   "source": [
    "doc = nlp(text)\n",
    "print(doc)"
   ]
  },
  {
   "cell_type": "code",
   "execution_count": 15,
   "id": "ab3397cd",
   "metadata": {
    "execution": {
     "iopub.execute_input": "2023-03-20T15:35:52.000379Z",
     "iopub.status.busy": "2023-03-20T15:35:51.999186Z",
     "iopub.status.idle": "2023-03-20T15:35:52.006872Z",
     "shell.execute_reply": "2023-03-20T15:35:52.005253Z"
    },
    "papermill": {
     "duration": 0.021363,
     "end_time": "2023-03-20T15:35:52.009962",
     "exception": false,
     "start_time": "2023-03-20T15:35:51.988599",
     "status": "completed"
    },
    "tags": []
   },
   "outputs": [
    {
     "name": "stdout",
     "output_type": "stream",
     "text": [
      "[54, 48, 49, 55, 54, 27, 54, 41, 68, 14, 13, 39, 104, 30, 152, 68]\n"
     ]
    }
   ],
   "source": [
    "sentence_lengths = [len(sent) for sent in doc.sents]\n",
    "print(sentence_lengths)"
   ]
  },
  {
   "cell_type": "markdown",
   "id": "e0a50886",
   "metadata": {
    "papermill": {
     "duration": 0.008948,
     "end_time": "2023-03-20T15:35:52.028825",
     "exception": false,
     "start_time": "2023-03-20T15:35:52.019877",
     "status": "completed"
    },
    "tags": []
   },
   "source": [
    "the line `sentence_lengths = [len(sent) for sent in doc.sents]`, we are calculating the length of each sentence in the document.\n",
    "\n",
    "Here's how it works:\n",
    "\n",
    "doc.sents is a generator that yields each sentence in the document as a Span object.\n",
    "We use a list comprehension to iterate over each sentence in doc.sents and apply the len() function to it to get its length.\n",
    "The resulting list contains the length of each sentence in the document in the order that they were yielded by doc.sents.\n",
    "So, sentence_lengths is a list of integers representing the length (in characters) of each sentence in the document. We can use this information to filter out sentences that are too short or too long to be included in the summary, which we do later in the code."
   ]
  },
  {
   "cell_type": "code",
   "execution_count": 16,
   "id": "b00ebffd",
   "metadata": {
    "execution": {
     "iopub.execute_input": "2023-03-20T15:35:52.049433Z",
     "iopub.status.busy": "2023-03-20T15:35:52.048984Z",
     "iopub.status.idle": "2023-03-20T15:35:52.054192Z",
     "shell.execute_reply": "2023-03-20T15:35:52.053024Z"
    },
    "papermill": {
     "duration": 0.018456,
     "end_time": "2023-03-20T15:35:52.056468",
     "exception": false,
     "start_time": "2023-03-20T15:35:52.038012",
     "status": "completed"
    },
    "tags": []
   },
   "outputs": [],
   "source": [
    "# Calculate the median sentence length\n",
    "median_sentence_length = sorted(sentence_lengths)[len(sentence_lengths) // 2]"
   ]
  },
  {
   "cell_type": "code",
   "execution_count": 17,
   "id": "6ec3be9b",
   "metadata": {
    "execution": {
     "iopub.execute_input": "2023-03-20T15:35:52.077701Z",
     "iopub.status.busy": "2023-03-20T15:35:52.076988Z",
     "iopub.status.idle": "2023-03-20T15:35:52.083208Z",
     "shell.execute_reply": "2023-03-20T15:35:52.081412Z"
    },
    "papermill": {
     "duration": 0.019838,
     "end_time": "2023-03-20T15:35:52.085860",
     "exception": false,
     "start_time": "2023-03-20T15:35:52.066022",
     "status": "completed"
    },
    "tags": []
   },
   "outputs": [
    {
     "name": "stdout",
     "output_type": "stream",
     "text": [
      "54\n"
     ]
    }
   ],
   "source": [
    "print(median_sentence_length)"
   ]
  },
  {
   "cell_type": "code",
   "execution_count": 18,
   "id": "2ba34d45",
   "metadata": {
    "execution": {
     "iopub.execute_input": "2023-03-20T15:35:52.106529Z",
     "iopub.status.busy": "2023-03-20T15:35:52.105750Z",
     "iopub.status.idle": "2023-03-20T15:35:52.112426Z",
     "shell.execute_reply": "2023-03-20T15:35:52.111221Z"
    },
    "papermill": {
     "duration": 0.019621,
     "end_time": "2023-03-20T15:35:52.114838",
     "exception": false,
     "start_time": "2023-03-20T15:35:52.095217",
     "status": "completed"
    },
    "tags": []
   },
   "outputs": [],
   "source": [
    "candidate_sentences = []\n",
    "# Loop over each sentence in doc.sents\n",
    "for sent in doc.sents:\n",
    "    # Calculate the length of the sentence\n",
    "    sent_length = len(sent)\n",
    "    # Calculate the lower and upper bounds for acceptable sentence lengths\n",
    "    lower_bound = median_sentence_length / 2\n",
    "    upper_bound = median_sentence_length * 2\n",
    "    # Check if the sentence length is within the acceptable range\n",
    "    if sent_length > lower_bound and sent_length < upper_bound:\n",
    "        # If the sentence length is within the acceptable range, add it to the list of candidate sentences\n",
    "        candidate_sentences.append(sent)"
   ]
  },
  {
   "cell_type": "code",
   "execution_count": 19,
   "id": "339f2f19",
   "metadata": {
    "execution": {
     "iopub.execute_input": "2023-03-20T15:35:52.135439Z",
     "iopub.status.busy": "2023-03-20T15:35:52.134704Z",
     "iopub.status.idle": "2023-03-20T15:35:52.142791Z",
     "shell.execute_reply": "2023-03-20T15:35:52.141611Z"
    },
    "papermill": {
     "duration": 0.021067,
     "end_time": "2023-03-20T15:35:52.145230",
     "exception": false,
     "start_time": "2023-03-20T15:35:52.124163",
     "status": "completed"
    },
    "tags": []
   },
   "outputs": [
    {
     "data": {
      "text/plain": [
       "[\n",
       " Alice was not a bit hurt, and she jumped up on to her feet in a moment:\n",
       " she looked up, but it was all dark overhead; before her was another long\n",
       " passage, and the White Rabbit was still in sight, hurrying down it.,\n",
       " There was not a moment to be lost: away went Alice like the wind, and\n",
       " was just in time to hear it say, as it turned a corner, \"Oh my ears and\n",
       " whiskers, how late it's getting!\",\n",
       " She was close behind it when she\n",
       " turned the corner, but the Rabbit was no longer to be seen: she found\n",
       " herself in a long, low hall, which was lit up by a row of lamps hanging\n",
       " from the roof.\n",
       " ,\n",
       " There were doors all round the hall, but they were all locked; and when\n",
       " Alice had been all the way down one side and up the other, trying every\n",
       " door, she walked sadly down the middle, wondering how she was ever to\n",
       " get out again.\n",
       " ,\n",
       " Suddenly she came upon a little three-legged table, all made of solid\n",
       " glass; there was nothing on it but a tiny golden key, and Alice's first\n",
       " idea was that this might belong to one of the doors of the hall; but,\n",
       " alas!,\n",
       " However, on the second time\n",
       " round, she came upon a low curtain she had not noticed before, and\n",
       " behind it was a little door about fifteen inches high: she tried the\n",
       " little golden key in the lock, and to her great delight it fitted!,\n",
       " Alice opened the door and found that it led into a small passage, not\n",
       " much larger than a rat-hole: she knelt down and looked along the passage\n",
       " into the loveliest garden you ever saw.,\n",
       " How she longed to get out of\n",
       " that dark hall, and wander about among those beds of bright flowers and\n",
       " those cool fountains, but she could not even get her head through the\n",
       " doorway; \"and even if my head would go through,\" thought poor Alice, \"it\n",
       " would be of very little use without my shoulders.,\n",
       " \"\n",
       " For, you see, so many out-of-the-way things had happened lately, that\n",
       " Alice had begun to think that very few things indeed were really\n",
       " impossible.\n",
       " ,\n",
       " There seemed to be no use in waiting by the little door, so she went\n",
       " back to the table, half hoping she might find another key on it, or at\n",
       " any rate a book of rules for shutting people up like telescopes: this\n",
       " time she found a little bottle on it (\"which certainly was not here\n",
       " before,\" said Alice,) and tied round the neck of the bottle was a paper\n",
       " label, with the words \"DRINK ME\" beautifully printed on it in large\n",
       " letters.\n",
       " ,\n",
       " It was all very well to say \"Drink me,\" but the wise little Alice was\n",
       " not going to do _that_ in a hurry.,\n",
       " However, this bottle was _not_ marked \"poison,\" so Alice ventured to\n",
       " taste it, and finding it very nice (it had, in fact, a sort of mixed\n",
       " flavour of cherry-tart, custard, pineapple, roast turkey, coffee, and\n",
       " hot buttered toast,) she very soon finished it off.]"
      ]
     },
     "execution_count": 19,
     "metadata": {},
     "output_type": "execute_result"
    }
   ],
   "source": [
    "candidate_sentences"
   ]
  },
  {
   "cell_type": "code",
   "execution_count": 20,
   "id": "b0592995",
   "metadata": {
    "execution": {
     "iopub.execute_input": "2023-03-20T15:35:52.166158Z",
     "iopub.status.busy": "2023-03-20T15:35:52.165761Z",
     "iopub.status.idle": "2023-03-20T15:35:52.171071Z",
     "shell.execute_reply": "2023-03-20T15:35:52.169612Z"
    },
    "papermill": {
     "duration": 0.018377,
     "end_time": "2023-03-20T15:35:52.173369",
     "exception": false,
     "start_time": "2023-03-20T15:35:52.154992",
     "status": "completed"
    },
    "tags": []
   },
   "outputs": [],
   "source": [
    "# filter our sentences that are too short or too long\n",
    "# candidate_sentences = [sent for sent in doc.sents if len(sent) > median_sentence_length / 2 and len(sent) < median_sentence_length * 2]\n",
    "# candidate_sentences"
   ]
  },
  {
   "cell_type": "code",
   "execution_count": 21,
   "id": "4960adfb",
   "metadata": {
    "execution": {
     "iopub.execute_input": "2023-03-20T15:35:52.193638Z",
     "iopub.status.busy": "2023-03-20T15:35:52.193223Z",
     "iopub.status.idle": "2023-03-20T15:35:52.205230Z",
     "shell.execute_reply": "2023-03-20T15:35:52.204309Z"
    },
    "papermill": {
     "duration": 0.027653,
     "end_time": "2023-03-20T15:35:52.210437",
     "exception": false,
     "start_time": "2023-03-20T15:35:52.182784",
     "status": "completed"
    },
    "tags": []
   },
   "outputs": [
    {
     "name": "stdout",
     "output_type": "stream",
     "text": [
      "[[0, 0.6548227667808533, 0.753572404384613, 0.8083294630050659, 0.7180418968200684, 0.8074862360954285, 0.6896841526031494, 0.6557883024215698, 0.5392252802848816, 0.7499995231628418, 0.5550321340560913, 0.7000885605812073], [0.6548227667808533, 0, 0.6230484247207642, 0.6471386551856995, 0.5806734561920166, 0.6194282174110413, 0.5468577146530151, 0.7098353505134583, 0.6016184091567993, 0.6485611200332642, 0.6798654198646545, 0.5928280353546143], [0.753572404384613, 0.6230484247207642, 0, 0.7864801287651062, 0.6730203628540039, 0.7235516309738159, 0.777519941329956, 0.5989688038825989, 0.4803265631198883, 0.7750964760780334, 0.4993300437927246, 0.5884562134742737], [0.8083294630050659, 0.6471386551856995, 0.7864801287651062, 0, 0.6109024882316589, 0.7448523640632629, 0.7179693579673767, 0.6400219202041626, 0.5631218552589417, 0.6638158559799194, 0.5871242880821228, 0.594321072101593], [0.7180418968200684, 0.5806734561920166, 0.6730203628540039, 0.6109024882316589, 0, 0.6922146081924438, 0.6400038003921509, 0.688351035118103, 0.5349024534225464, 0.7185953259468079, 0.4746425449848175, 0.6122642755508423], [0.8074862360954285, 0.6194282174110413, 0.7235516309738159, 0.7448523640632629, 0.6922146081924438, 0, 0.7516504526138306, 0.5945074558258057, 0.5688537955284119, 0.7083773612976074, 0.4914630353450775, 0.6226100325584412], [0.6896841526031494, 0.5468577146530151, 0.777519941329956, 0.7179693579673767, 0.6400038003921509, 0.7516504526138306, 0, 0.6030736565589905, 0.4205402135848999, 0.710028886795044, 0.48225340247154236, 0.5600835084915161], [0.6557883024215698, 0.7098353505134583, 0.5989688038825989, 0.6400219202041626, 0.688351035118103, 0.5945074558258057, 0.6030736565589905, 0, 0.5251775979995728, 0.7316669225692749, 0.6144480109214783, 0.5869066119194031], [0.5392252802848816, 0.6016184091567993, 0.4803265631198883, 0.5631218552589417, 0.5349024534225464, 0.5688537955284119, 0.4205402135848999, 0.5251775979995728, 0, 0.4882865250110626, 0.43956315517425537, 0.6372982263565063], [0.7499995231628418, 0.6485611200332642, 0.7750964760780334, 0.6638158559799194, 0.7185953259468079, 0.7083773612976074, 0.710028886795044, 0.7316669225692749, 0.4882865250110626, 0, 0.6163309812545776, 0.6690000295639038], [0.5550321340560913, 0.6798654198646545, 0.4993300437927246, 0.5871242880821228, 0.4746425449848175, 0.4914630353450775, 0.48225340247154236, 0.6144480109214783, 0.43956315517425537, 0.6163309812545776, 0, 0.5567594170570374], [0.7000885605812073, 0.5928280353546143, 0.5884562134742737, 0.594321072101593, 0.6122642755508423, 0.6226100325584412, 0.5600835084915161, 0.5869066119194031, 0.6372982263565063, 0.6690000295639038, 0.5567594170570374, 0]]\n"
     ]
    },
    {
     "name": "stderr",
     "output_type": "stream",
     "text": [
      "/opt/conda/lib/python3.7/site-packages/ipykernel_launcher.py:8: UserWarning: [W007] The model you're using has no word vectors loaded, so the result of the Span.similarity method will be based on the tagger, parser and NER, which may not give useful similarity judgements. This may happen if you're using one of the small models, e.g. `en_core_web_sm`, which don't ship with word vectors and only use context-sensitive tensors. You can always add your own word vectors, or use one of the larger models instead if available.\n",
      "  \n"
     ]
    }
   ],
   "source": [
    "similarity_matrix = []\n",
    "for i in range(len(candidate_sentences)):\n",
    "    row = []\n",
    "    for j in range(len(candidate_sentences)):\n",
    "        if i == j:\n",
    "            row.append(0)\n",
    "        else:\n",
    "            row.append(candidate_sentences[i].similarity(candidate_sentences[j]))\n",
    "    similarity_matrix.append(row)\n",
    "\n",
    "    \n",
    "print(similarity_matrix)\n",
    "        "
   ]
  },
  {
   "cell_type": "code",
   "execution_count": 22,
   "id": "01f55eb3",
   "metadata": {
    "execution": {
     "iopub.execute_input": "2023-03-20T15:35:52.232231Z",
     "iopub.status.busy": "2023-03-20T15:35:52.231822Z",
     "iopub.status.idle": "2023-03-20T15:35:52.237408Z",
     "shell.execute_reply": "2023-03-20T15:35:52.236149Z"
    },
    "papermill": {
     "duration": 0.019164,
     "end_time": "2023-03-20T15:35:52.239865",
     "exception": false,
     "start_time": "2023-03-20T15:35:52.220701",
     "status": "completed"
    },
    "tags": []
   },
   "outputs": [],
   "source": [
    "# Rank the sentences based on their centrality in the similarity graph\n",
    "centrality_scores = [sum(row) for row in similarity_matrix]\n",
    "# sentence_indices = sorted(range(len(candidate_sentences)), key=lambda i: centrality_scores[i], reverse=True)"
   ]
  },
  {
   "cell_type": "code",
   "execution_count": 23,
   "id": "ac1b114e",
   "metadata": {
    "execution": {
     "iopub.execute_input": "2023-03-20T15:35:52.261151Z",
     "iopub.status.busy": "2023-03-20T15:35:52.260325Z",
     "iopub.status.idle": "2023-03-20T15:35:52.266265Z",
     "shell.execute_reply": "2023-03-20T15:35:52.264729Z"
    },
    "papermill": {
     "duration": 0.019458,
     "end_time": "2023-03-20T15:35:52.268809",
     "exception": false,
     "start_time": "2023-03-20T15:35:52.249351",
     "status": "completed"
    },
    "tags": []
   },
   "outputs": [],
   "source": [
    "sentence_indices = sorted(\n",
    "    range(len(candidate_sentences)), \n",
    "    key=lambda i: centrality_scores[i], \n",
    "    reverse=True\n",
    ")"
   ]
  },
  {
   "cell_type": "code",
   "execution_count": 24,
   "id": "73299af9",
   "metadata": {
    "execution": {
     "iopub.execute_input": "2023-03-20T15:35:52.289718Z",
     "iopub.status.busy": "2023-03-20T15:35:52.289278Z",
     "iopub.status.idle": "2023-03-20T15:35:52.296902Z",
     "shell.execute_reply": "2023-03-20T15:35:52.295510Z"
    },
    "papermill": {
     "duration": 0.020828,
     "end_time": "2023-03-20T15:35:52.299246",
     "exception": false,
     "start_time": "2023-03-20T15:35:52.278418",
     "status": "completed"
    },
    "tags": []
   },
   "outputs": [
    {
     "data": {
      "text/plain": [
       "[7.63207072019577,\n",
       " 6.90467756986618,\n",
       " 7.279370993375778,\n",
       " 7.36407744884491,\n",
       " 6.94361224770546,\n",
       " 7.324995189905167,\n",
       " 6.899665087461472,\n",
       " 6.948745667934418,\n",
       " 5.798914074897766,\n",
       " 7.479759007692337,\n",
       " 5.996812433004379,\n",
       " 6.720615983009338]"
      ]
     },
     "execution_count": 24,
     "metadata": {},
     "output_type": "execute_result"
    }
   ],
   "source": [
    "centrality_scores"
   ]
  },
  {
   "cell_type": "code",
   "execution_count": 25,
   "id": "42408c15",
   "metadata": {
    "execution": {
     "iopub.execute_input": "2023-03-20T15:35:52.321247Z",
     "iopub.status.busy": "2023-03-20T15:35:52.320026Z",
     "iopub.status.idle": "2023-03-20T15:35:52.328334Z",
     "shell.execute_reply": "2023-03-20T15:35:52.326959Z"
    },
    "papermill": {
     "duration": 0.021765,
     "end_time": "2023-03-20T15:35:52.330704",
     "exception": false,
     "start_time": "2023-03-20T15:35:52.308939",
     "status": "completed"
    },
    "tags": []
   },
   "outputs": [
    {
     "data": {
      "text/plain": [
       "[0, 9, 3, 5, 2, 7, 4, 1, 6, 11, 10, 8]"
      ]
     },
     "execution_count": 25,
     "metadata": {},
     "output_type": "execute_result"
    }
   ],
   "source": [
    "sentence_indices"
   ]
  },
  {
   "cell_type": "markdown",
   "id": "a460b3c2",
   "metadata": {
    "papermill": {
     "duration": 0.009414,
     "end_time": "2023-03-20T15:35:52.350017",
     "exception": false,
     "start_time": "2023-03-20T15:35:52.340603",
     "status": "completed"
    },
    "tags": []
   },
   "source": []
  },
  {
   "cell_type": "code",
   "execution_count": 26,
   "id": "1d1590ee",
   "metadata": {
    "execution": {
     "iopub.execute_input": "2023-03-20T15:35:52.372191Z",
     "iopub.status.busy": "2023-03-20T15:35:52.371043Z",
     "iopub.status.idle": "2023-03-20T15:35:52.376265Z",
     "shell.execute_reply": "2023-03-20T15:35:52.375377Z"
    },
    "papermill": {
     "duration": 0.018486,
     "end_time": "2023-03-20T15:35:52.378433",
     "exception": false,
     "start_time": "2023-03-20T15:35:52.359947",
     "status": "completed"
    },
    "tags": []
   },
   "outputs": [],
   "source": [
    "# Select the top N sentences with the highest centrality scores\n",
    "N =2\n",
    "summary_sentences = [candidate_sentences[i] for i in sentence_indices[:N]]\n"
   ]
  },
  {
   "cell_type": "code",
   "execution_count": 27,
   "id": "38d814a3",
   "metadata": {
    "execution": {
     "iopub.execute_input": "2023-03-20T15:35:52.399981Z",
     "iopub.status.busy": "2023-03-20T15:35:52.399194Z",
     "iopub.status.idle": "2023-03-20T15:35:52.406847Z",
     "shell.execute_reply": "2023-03-20T15:35:52.405615Z"
    },
    "papermill": {
     "duration": 0.021134,
     "end_time": "2023-03-20T15:35:52.409278",
     "exception": false,
     "start_time": "2023-03-20T15:35:52.388144",
     "status": "completed"
    },
    "tags": []
   },
   "outputs": [
    {
     "data": {
      "text/plain": [
       "[\n",
       " Alice was not a bit hurt, and she jumped up on to her feet in a moment:\n",
       " she looked up, but it was all dark overhead; before her was another long\n",
       " passage, and the White Rabbit was still in sight, hurrying down it.,\n",
       " There seemed to be no use in waiting by the little door, so she went\n",
       " back to the table, half hoping she might find another key on it, or at\n",
       " any rate a book of rules for shutting people up like telescopes: this\n",
       " time she found a little bottle on it (\"which certainly was not here\n",
       " before,\" said Alice,) and tied round the neck of the bottle was a paper\n",
       " label, with the words \"DRINK ME\" beautifully printed on it in large\n",
       " letters.\n",
       " ]"
      ]
     },
     "execution_count": 27,
     "metadata": {},
     "output_type": "execute_result"
    }
   ],
   "source": [
    "summary_sentences"
   ]
  },
  {
   "cell_type": "code",
   "execution_count": 28,
   "id": "3950fcaa",
   "metadata": {
    "execution": {
     "iopub.execute_input": "2023-03-20T15:35:52.431276Z",
     "iopub.status.busy": "2023-03-20T15:35:52.430890Z",
     "iopub.status.idle": "2023-03-20T15:35:52.436932Z",
     "shell.execute_reply": "2023-03-20T15:35:52.435674Z"
    },
    "papermill": {
     "duration": 0.020971,
     "end_time": "2023-03-20T15:35:52.440231",
     "exception": false,
     "start_time": "2023-03-20T15:35:52.419260",
     "status": "completed"
    },
    "tags": []
   },
   "outputs": [
    {
     "name": "stdout",
     "output_type": "stream",
     "text": [
      "\n",
      "Alice was not a bit hurt, and she jumped up on to her feet in a moment:\n",
      "she looked up, but it was all dark overhead; before her was another long\n",
      "passage, and the White Rabbit was still in sight, hurrying down it.\n",
      " There seemed to be no use in waiting by the little door, so she went\n",
      "back to the table, half hoping she might find another key on it, or at\n",
      "any rate a book of rules for shutting people up like telescopes: this\n",
      "time she found a little bottle on it (\"which certainly was not here\n",
      "before,\" said Alice,) and tied round the neck of the bottle was a paper\n",
      "label, with the words \"DRINK ME\" beautifully printed on it in large\n",
      "letters.\n",
      "\n",
      "\n"
     ]
    }
   ],
   "source": [
    "# Print summary\n",
    "summary = ' '.join([sent.text for sent in summary_sentences])\n",
    "print(summary)"
   ]
  }
 ],
 "metadata": {
  "kernelspec": {
   "display_name": "Python 3",
   "language": "python",
   "name": "python3"
  },
  "language_info": {
   "codemirror_mode": {
    "name": "ipython",
    "version": 3
   },
   "file_extension": ".py",
   "mimetype": "text/x-python",
   "name": "python",
   "nbconvert_exporter": "python",
   "pygments_lexer": "ipython3",
   "version": "3.7.12"
  },
  "papermill": {
   "default_parameters": {},
   "duration": 29.673159,
   "end_time": "2023-03-20T15:35:55.515785",
   "environment_variables": {},
   "exception": null,
   "input_path": "__notebook__.ipynb",
   "output_path": "__notebook__.ipynb",
   "parameters": {},
   "start_time": "2023-03-20T15:35:25.842626",
   "version": "2.4.0"
  }
 },
 "nbformat": 4,
 "nbformat_minor": 5
}
